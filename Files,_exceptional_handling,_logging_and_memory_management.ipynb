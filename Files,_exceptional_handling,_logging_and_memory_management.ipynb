{
  "nbformat": 4,
  "nbformat_minor": 0,
  "metadata": {
    "colab": {
      "provenance": []
    },
    "kernelspec": {
      "name": "python3",
      "display_name": "Python 3"
    },
    "language_info": {
      "name": "python"
    }
  },
  "cells": [
    {
      "cell_type": "markdown",
      "source": [
        "###THEORY QUESTIONS"
      ],
      "metadata": {
        "id": "Fyj4-WBGPTMa"
      }
    },
    {
      "cell_type": "markdown",
      "source": [
        "###1. What is the difference between interpreted and compiled languages?\n",
        ">Interpreted Language: Code is executed line by line (e.g., Python, JavaScript).\n",
        "Compiled Language: Code is converted into machine language by a compiler before execution (e.g., C, C++). Main Difference: Interpreted languages are slower but easier to debug; compiled languages are faster but need compilation.\n",
        "\n",
        "###2. What is exception handling in Python?\n",
        ">Exception handling in Python is the process of responding to unwanted or unexpected events (exceptions) during program execution by using try, except, else, and finally blocks.\n",
        "\n",
        "###3. What is the purpose of the finally block in exception handling?\n",
        ">The finally block is used to define clean-up actions that must be executed under all circumstances, whether an exception occurs or not.\n",
        "\n",
        "###4. What is logging in Python?\n",
        ">Logging is a way to track events that happen during program execution. It helps in debugging, monitoring, and understanding the flow of a program without using print statements.\n",
        "\n",
        "###5. What is the significance of the __del__ method in Python?\n",
        ">The __del__ method is called when an object is about to be destroyed. It is used for clean-up activities like closing files or releasing resources.\n",
        "\n",
        "###6. What is the difference between import and from ... import in Python?\n",
        ">import module: Imports the whole module. From module import function: Imports a specific function or class from a module.\n",
        "\n",
        "###7. How can you handle multiple exceptions in Python?\n",
        ">Multiple exceptions can be handled by using multiple except blocks or by grouping exceptions in a single except using parentheses.\n",
        "`try:\n",
        "     code\n",
        "except (ValueError, TypeError):\n",
        "     handle ValueError and TypeError`\n",
        "\n",
        "###8. What is the purpose of the with statement when handling files in Python?\n",
        ">The with statement simplifies file handling by automatically closing the file after the block of code is executed, even if an exception occurs.\n",
        "\n",
        "###9. What is the difference between multithreading and multiprocessing?\n",
        ">Multithreading: Multiple threads run in the same memory space (shared memory).\n",
        "Multiprocessing: Multiple processes run independently with separate memory spaces.\n",
        "\n",
        "###10. What are the advantages of using logging in a program?\n",
        ">Helps in debugging,\n",
        "Records runtime events,\n",
        "Provides information even after the program crashes,\n",
        "Better than using print statements in production code.\n",
        "\n",
        "###11. What is memory management in Python?\n",
        ">Memory management in Python involves the allocation, use, and release of memory during the program execution. Python has automatic garbage collection for managing memory.\n",
        "\n",
        "###12. What are the basic steps involved in exception handling in Python?\n",
        ">Place the risky code inside a try block.\n",
        "Handle exceptions using one or more except blocks.\n",
        "`(Optional) Use else block to run if no exception occurs.`\n",
        "`(Optional) Use finally block for clean-up activities.`\n",
        "\n",
        "###13. Why is memory management important in Python?\n",
        ">Proper memory management ensures efficient usage of memory, prevents memory leaks, improves performance, and keeps the application stable.\n",
        "\n",
        "###14. What is the role of try and except in exception handling?\n",
        ">try: Used to wrap code that might cause an exception.\n",
        "except: Used to catch and handle the exception if it occurs.\n",
        "\n",
        "###15. How does Python's garbage collection system work?\n",
        ">Python’s garbage collector automatically reclaims memory by deleting objects that are no longer referenced, using a technique called reference counting and cyclic garbage collection.\n",
        "\n",
        "###16. What is the purpose of the else block in exception handling?\n",
        ">The else block is executed if no exceptions occur inside the try block. It is used to separate code that should only run when the try block succeeds.\n",
        "\n",
        "###17. What are the common logging levels in Python?\n",
        ">DEBUG\n",
        "INFO\n",
        "WARNING\n",
        "ERROR\n",
        "CRITICAL\n",
        "\n",
        "###18. What is the difference between os.fork() and multiprocessing in Python?\n",
        ">os.fork() creates a child process by duplicating the parent (works only on Unix/Linux).multiprocessing module provides a cross-platform way to create and manage processes.\n",
        "\n",
        "###19. What is the importance of closing a file in Python?\n",
        ">Closing a file ensures that all data is properly written and system resources (like file handles) are freed.\n",
        "\n",
        "###20. What is the difference between file.read() and file.readline() in Python?\n",
        ">file.read(): Reads the entire file at once.\n",
        "file.readline(): Reads one line from the file at a time.\n",
        "\n",
        "###21. What is the logging module in Python used for?\n",
        ">The logging module is used to record log messages of different severity levels and output them to various destinations like console or files.\n",
        "\n",
        "###22. What is the os module in Python used for in file handling?\n",
        ">The os module provides functions to interact with the operating system, such as creating, removing, and checking files and directories.\n",
        "\n",
        "###23. What are the challenges associated with memory management in Python?\n",
        ">Circular references.\n",
        "Memory leaks due to unused references.\n",
        "High memory consumption in long-running applications.\n",
        "\n",
        "###24. How do you raise an exception manually in Python?\n",
        ">You can raise an exception manually using the raise keyword.\n",
        "`raise ValueError(\"This is a manually raised exception.\")`\n",
        "\n",
        "###25. Why is it important to use multithreading in certain applications?\n",
        ">Multithreading is important for improving the performance of applications where multiple tasks can run concurrently, especially in I/O-bound operations like file handling, networking, etc."
      ],
      "metadata": {
        "id": "gmG0ySQgPbSj"
      }
    },
    {
      "cell_type": "markdown",
      "source": [
        "###PRACTICAL QUESTIONS"
      ],
      "metadata": {
        "id": "D9cheOfnSDn_"
      }
    },
    {
      "cell_type": "markdown",
      "source": [
        "###1. How can you open a file for writing in Python and write a string to it?"
      ],
      "metadata": {
        "id": "AqiFiY9TL63y"
      }
    },
    {
      "cell_type": "code",
      "source": [
        "# Open file for writing and write a string\n",
        "with open('example.txt', 'w') as file:\n",
        "    file.write('Hello, this is a sample text.')"
      ],
      "metadata": {
        "id": "YGsoZgqKL7-Z"
      },
      "execution_count": null,
      "outputs": []
    },
    {
      "cell_type": "markdown",
      "source": [
        "###2. Write a Python program to read the contents of a file and print each line."
      ],
      "metadata": {
        "id": "MPedY2xqL-GA"
      }
    },
    {
      "cell_type": "code",
      "source": [
        "# Read and print each line from a file\n",
        "with open('example.txt', 'r') as file:\n",
        "    for line in file:\n",
        "        print(line.strip())"
      ],
      "metadata": {
        "id": "htDhm3SYMC4I"
      },
      "execution_count": null,
      "outputs": []
    },
    {
      "cell_type": "markdown",
      "source": [
        "###3. How would you handle a case where the file doesn't exist while trying to open it for reading?"
      ],
      "metadata": {
        "id": "Y-YmlOAsMIOl"
      }
    },
    {
      "cell_type": "code",
      "source": [
        "try:\n",
        "    with open('non_existent_file.txt', 'r') as file:\n",
        "        print(file.read())\n",
        "except FileNotFoundError:\n",
        "    print(\"The file does not exist.\")"
      ],
      "metadata": {
        "id": "e5XuaT08MKwX"
      },
      "execution_count": null,
      "outputs": []
    },
    {
      "cell_type": "markdown",
      "source": [
        "###4. Write a Python script that reads from one file and writes its content to another file."
      ],
      "metadata": {
        "id": "hWtLy2aVMMSv"
      }
    },
    {
      "cell_type": "code",
      "source": [
        "with open('source.txt', 'r') as source, open('destination.txt', 'w') as dest:\n",
        "    for line in source:\n",
        "        dest.write(line)"
      ],
      "metadata": {
        "id": "nczWXJXbMOq3"
      },
      "execution_count": null,
      "outputs": []
    },
    {
      "cell_type": "markdown",
      "source": [
        "###5. How would you catch and handle division by zero error in Python?"
      ],
      "metadata": {
        "id": "6DTgFJd0MQfv"
      }
    },
    {
      "cell_type": "code",
      "source": [
        "try:\n",
        "    result = 10 / 0\n",
        "except ZeroDivisionError:\n",
        "    print(\"Cannot divide by zero.\")"
      ],
      "metadata": {
        "id": "mBsucXuEMT9r"
      },
      "execution_count": null,
      "outputs": []
    },
    {
      "cell_type": "markdown",
      "source": [
        "###6. Write a Python program that logs an error message to a log file when a division by zero exception occurs."
      ],
      "metadata": {
        "id": "_VedAUVjMXFo"
      }
    },
    {
      "cell_type": "code",
      "source": [
        "import logging\n",
        "\n",
        "logging.basicConfig(filename='error.log', level=logging.ERROR)\n",
        "\n",
        "try:\n",
        "    result = 10 / 0\n",
        "except ZeroDivisionError as e:\n",
        "    logging.error(\"Division by zero error: %s\", e)"
      ],
      "metadata": {
        "id": "kGNISp0EMX8A"
      },
      "execution_count": null,
      "outputs": []
    },
    {
      "cell_type": "markdown",
      "source": [
        "###7. How do you log information at different levels (INFO, ERROR, WARNING) in Python using the logging module?"
      ],
      "metadata": {
        "id": "V98QgKoPMaSM"
      }
    },
    {
      "cell_type": "code",
      "source": [
        "import logging\n",
        "\n",
        "logging.basicConfig(level=logging.DEBUG)\n",
        "\n",
        "logging.info('This is an info message')\n",
        "logging.warning('This is a warning message')\n",
        "logging.error('This is an error message')"
      ],
      "metadata": {
        "id": "MjOW9xnCMdot"
      },
      "execution_count": null,
      "outputs": []
    },
    {
      "cell_type": "markdown",
      "source": [
        "###8. Write a program to handle a file opening error using exception handling."
      ],
      "metadata": {
        "id": "SK6mEiywMfk3"
      }
    },
    {
      "cell_type": "code",
      "source": [
        "try:\n",
        "    with open('myfile.txt', 'r') as file:\n",
        "        content = file.read()\n",
        "except FileNotFoundError:\n",
        "    print(\"File not found!\")"
      ],
      "metadata": {
        "id": "jodEiS4cMhr9"
      },
      "execution_count": null,
      "outputs": []
    },
    {
      "cell_type": "markdown",
      "source": [
        "###9. How can you read a file line by line and store its content in a list in Python?"
      ],
      "metadata": {
        "id": "cHx33-WGMnBg"
      }
    },
    {
      "cell_type": "code",
      "source": [
        "lines_list = []\n",
        "with open('example.txt', 'r') as file:\n",
        "    lines_list = file.readlines()\n",
        "\n",
        "print(lines_list)"
      ],
      "metadata": {
        "id": "MrfcC1OjMoHc"
      },
      "execution_count": null,
      "outputs": []
    },
    {
      "cell_type": "markdown",
      "source": [
        "###10. How can you append data to an existing file in Python?"
      ],
      "metadata": {
        "id": "uGNZRAoSMqMz"
      }
    },
    {
      "cell_type": "code",
      "source": [
        "with open('example.txt', 'a') as file:\n",
        "    file.write('\\nAppending new line to the file.')"
      ],
      "metadata": {
        "id": "iGAcBUQ4MsgG"
      },
      "execution_count": null,
      "outputs": []
    },
    {
      "cell_type": "markdown",
      "source": [
        "###11. Write a Python program that uses a try-except block to handle an error when attempting to access a dictionary key that doesn't exist."
      ],
      "metadata": {
        "id": "a8ugXB4-M0Jy"
      }
    },
    {
      "cell_type": "code",
      "source": [
        "my_dict = {'name': 'Alice'}\n",
        "\n",
        "try:\n",
        "    print(my_dict['age'])\n",
        "except KeyError:\n",
        "    print(\"Key not found in the dictionary.\")"
      ],
      "metadata": {
        "id": "4pLYE8-YM1UU"
      },
      "execution_count": null,
      "outputs": []
    },
    {
      "cell_type": "markdown",
      "source": [
        "###12. Write a program that demonstrates using multiple except blocks to handle different types of exceptions."
      ],
      "metadata": {
        "id": "a3EWwvkCM3PW"
      }
    },
    {
      "cell_type": "code",
      "source": [
        "try:\n",
        "    a = int('hello')\n",
        "except ValueError:\n",
        "    print(\"ValueError occurred.\")\n",
        "except TypeError:\n",
        "    print(\"TypeError occurred.\")\n",
        "except Exception as e:\n",
        "    print(\"Some other error occurred:\", e)"
      ],
      "metadata": {
        "id": "3JYPjDaHM6ag"
      },
      "execution_count": null,
      "outputs": []
    },
    {
      "cell_type": "markdown",
      "source": [
        "###13. How would you check if a file exists before attempting to read it in Python?"
      ],
      "metadata": {
        "id": "3zSnc2opM8aU"
      }
    },
    {
      "cell_type": "code",
      "source": [
        "import os\n",
        "\n",
        "if os.path.exists('example.txt'):\n",
        "    with open('example.txt', 'r') as file:\n",
        "        print(file.read())\n",
        "else:\n",
        "    print(\"File does not exist.\")"
      ],
      "metadata": {
        "id": "zzkegSmtM-hG"
      },
      "execution_count": null,
      "outputs": []
    },
    {
      "cell_type": "markdown",
      "source": [
        "###14. Write a program that uses the logging module to log both informational and error messages."
      ],
      "metadata": {
        "id": "_F08PPkVNGGS"
      }
    },
    {
      "cell_type": "code",
      "source": [
        "import logging\n",
        "\n",
        "logging.basicConfig(filename='app.log', level=logging.INFO)\n",
        "\n",
        "logging.info('Program started')\n",
        "try:\n",
        "    result = 10 / 0\n",
        "except ZeroDivisionError:\n",
        "    logging.error('Division by zero error occurred')"
      ],
      "metadata": {
        "id": "cG2kmH9vNHyo"
      },
      "execution_count": null,
      "outputs": []
    },
    {
      "cell_type": "markdown",
      "source": [
        "###15. Write a Python program that prints the content of a file and handles the case when the file is empty."
      ],
      "metadata": {
        "id": "NdiQnSr3NNBX"
      }
    },
    {
      "cell_type": "code",
      "source": [
        "try:\n",
        "    with open('example.txt', 'r') as file:\n",
        "        content = file.read()\n",
        "        if content:\n",
        "            print(content)\n",
        "        else:\n",
        "            print(\"File is empty.\")\n",
        "except FileNotFoundError:\n",
        "    print(\"File not found.\")"
      ],
      "metadata": {
        "id": "0Qcb1MilNN-H"
      },
      "execution_count": null,
      "outputs": []
    },
    {
      "cell_type": "markdown",
      "source": [
        "###16. Demonstrate how to use memory profiling to check the memory usage of a small program."
      ],
      "metadata": {
        "id": "7T23c9a8NQTE"
      }
    },
    {
      "cell_type": "code",
      "source": [
        "# Install memory-profiler first if needed: pip install memory-profiler\n",
        "from memory_profiler import profile\n",
        "\n",
        "@profile\n",
        "def my_function():\n",
        "    a = [i for i in range(10000)]\n",
        "    b = [i * 2 for i in range(10000)]\n",
        "    return a, b\n",
        "\n",
        "if __name__ == \"__main__\":\n",
        "    my_function()"
      ],
      "metadata": {
        "id": "ZkiXjQ6aNSfN"
      },
      "execution_count": null,
      "outputs": []
    },
    {
      "cell_type": "markdown",
      "source": [
        "###17. Write a Python program to create and write a list of numbers to a file, one number per line."
      ],
      "metadata": {
        "id": "J2wrFYmrNUkr"
      }
    },
    {
      "cell_type": "code",
      "source": [
        "numbers = [1, 2, 3, 4, 5]\n",
        "\n",
        "with open('numbers.txt', 'w') as file:\n",
        "    for number in numbers:\n",
        "        file.write(f\"{number}\\n\")"
      ],
      "metadata": {
        "id": "1--8p0cwNX1K"
      },
      "execution_count": null,
      "outputs": []
    },
    {
      "cell_type": "markdown",
      "source": [
        "###18. How would you implement a basic logging setup that logs to a file with rotation after 1MB?"
      ],
      "metadata": {
        "id": "gI_ru3DfNbMr"
      }
    },
    {
      "cell_type": "code",
      "source": [
        "import logging\n",
        "from logging.handlers import RotatingFileHandler\n",
        "\n",
        "logger = logging.getLogger()\n",
        "logger.setLevel(logging.INFO)\n",
        "\n",
        "handler = RotatingFileHandler('rotated_app.log', maxBytes=1*1024*1024, backupCount=3)\n",
        "logger.addHandler(handler)\n",
        "\n",
        "logger.info('This is a log message!')"
      ],
      "metadata": {
        "id": "thuP-A_aNdcn"
      },
      "execution_count": null,
      "outputs": []
    },
    {
      "cell_type": "markdown",
      "source": [
        "###19. Write a program that handles both IndexError and KeyError using a try-except block."
      ],
      "metadata": {
        "id": "uLwtecvVNhpB"
      }
    },
    {
      "cell_type": "code",
      "source": [
        "try:\n",
        "    my_list = [1, 2, 3]\n",
        "    print(my_list[5])  # IndexError\n",
        "    my_dict = {'a': 1}\n",
        "    print(my_dict['b'])  # KeyError\n",
        "except IndexError:\n",
        "    print(\"Index out of range.\")\n",
        "except KeyError:\n",
        "    print(\"Key not found.\")"
      ],
      "metadata": {
        "id": "p_NoCXRxNkzF"
      },
      "execution_count": null,
      "outputs": []
    },
    {
      "cell_type": "markdown",
      "source": [
        "###20. How would you open a file and read its contents using a context manager in Python?"
      ],
      "metadata": {
        "id": "AJVdhXntNnYx"
      }
    },
    {
      "cell_type": "code",
      "source": [
        "with open('example.txt', 'r') as file:\n",
        "    content = file.read()\n",
        "    print(content)"
      ],
      "metadata": {
        "id": "26a0eP8eNqE2"
      },
      "execution_count": null,
      "outputs": []
    },
    {
      "cell_type": "markdown",
      "source": [
        "###21. Write a Python program that reads a file and prints the number of occurrences of a specific word."
      ],
      "metadata": {
        "id": "E-BoW19TNr7_"
      }
    },
    {
      "cell_type": "code",
      "source": [
        "word_to_find = 'sample'\n",
        "count = 0\n",
        "\n",
        "with open('example.txt', 'r') as file:\n",
        "    for line in file:\n",
        "        words = line.split()\n",
        "        count += words.count(word_to_find)\n",
        "\n",
        "print(f\"The word '{word_to_find}' occurred {count} times.\")"
      ],
      "metadata": {
        "id": "kdwGjq_tOh8W"
      },
      "execution_count": null,
      "outputs": []
    },
    {
      "cell_type": "markdown",
      "source": [
        "###22. How can you check if a file is empty before attempting to read its contents?"
      ],
      "metadata": {
        "id": "NWTGF2zMOkcO"
      }
    },
    {
      "cell_type": "code",
      "source": [
        "import os\n",
        "\n",
        "if os.path.exists('example.txt') and os.stat('example.txt').st_size == 0:\n",
        "    print(\"File is empty.\")\n",
        "else:\n",
        "    with open('example.txt', 'r') as file:\n",
        "        print(file.read())"
      ],
      "metadata": {
        "id": "j5wP03YXOlcr"
      },
      "execution_count": null,
      "outputs": []
    },
    {
      "cell_type": "markdown",
      "source": [
        "###23. Write a Python program that writes to a log file when an error occurs during file handling."
      ],
      "metadata": {
        "id": "hTt6jqi6OnKW"
      }
    },
    {
      "cell_type": "code",
      "source": [
        "import logging\n",
        "\n",
        "logging.basicConfig(filename='file_error.log', level=logging.ERROR)\n",
        "\n",
        "try:\n",
        "    with open('non_existing_file.txt', 'r') as file:\n",
        "        content = file.read()\n",
        "except FileNotFoundError as e:\n",
        "    logging.error(\"File handling error: %s\", e)"
      ],
      "metadata": {
        "id": "JpB8ievVOqV9"
      },
      "execution_count": null,
      "outputs": []
    }
  ]
}